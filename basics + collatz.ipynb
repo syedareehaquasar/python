{
  "nbformat": 4,
  "nbformat_minor": 0,
  "metadata": {
    "colab": {
      "name": "Untitled0.ipynb",
      "provenance": [],
      "collapsed_sections": [],
      "mount_file_id": "19ovlDVyrSCbRaUh9YBdwZ-CD0Lc_F4xj",
      "authorship_tag": "ABX9TyPGcrW9MfkgO/T5hq8zzOot",
      "include_colab_link": true
    },
    "kernelspec": {
      "name": "python3",
      "display_name": "Python 3"
    }
  },
  "cells": [
    {
      "cell_type": "markdown",
      "metadata": {
        "id": "view-in-github",
        "colab_type": "text"
      },
      "source": [
        "<a href=\"https://colab.research.google.com/github/syedareehaquasar/python/blob/master/basics%20%2B%20collatz.ipynb\" target=\"_parent\"><img src=\"https://colab.research.google.com/assets/colab-badge.svg\" alt=\"Open In Colab\"/></a>"
      ]
    },
    {
      "cell_type": "code",
      "metadata": {
        "colab": {
          "base_uri": "https://localhost:8080/"
        },
        "id": "-Hxp5Sh7-jnY",
        "outputId": "9597b929-16c5-449f-c797-2b11c5a42c99"
      },
      "source": [
        "# show numbers from 1 to 10\n",
        "for i in range(1, 11):\n",
        "  print(i)"
      ],
      "execution_count": 1,
      "outputs": [
        {
          "output_type": "stream",
          "name": "stdout",
          "text": [
            "1\n",
            "2\n",
            "3\n",
            "4\n",
            "5\n",
            "6\n",
            "7\n",
            "8\n",
            "9\n",
            "10\n"
          ]
        }
      ]
    },
    {
      "cell_type": "code",
      "metadata": {
        "colab": {
          "base_uri": "https://localhost:8080/"
        },
        "id": "_3groTM5-jh8",
        "outputId": "ec3de124-9d7f-4f63-83a2-43ec5de6d5de"
      },
      "source": [
        "# show even numbers drom 2 to 10\n",
        "for i in range(2, 11, 2):\n",
        "  print(i)"
      ],
      "execution_count": 2,
      "outputs": [
        {
          "output_type": "stream",
          "name": "stdout",
          "text": [
            "2\n",
            "4\n",
            "6\n",
            "8\n",
            "10\n"
          ]
        }
      ]
    },
    {
      "cell_type": "code",
      "metadata": {
        "colab": {
          "base_uri": "https://localhost:8080/"
        },
        "id": "i4fnegpV-jc0",
        "outputId": "c192f5e4-c61e-49af-9036-94f75d06cb66"
      },
      "source": [
        "#program to add 2 numbers\n",
        "def add_numbers(x, y):\n",
        "  return x + y\n",
        "\n",
        "print(add_numbers(10, 20))\n",
        "print(add_numbers(100, 20))"
      ],
      "execution_count": 4,
      "outputs": [
        {
          "output_type": "stream",
          "name": "stdout",
          "text": [
            "30\n",
            "120\n"
          ]
        }
      ]
    },
    {
      "cell_type": "code",
      "metadata": {
        "colab": {
          "base_uri": "https://localhost:8080/"
        },
        "id": "yqY2Fpa8-jWU",
        "outputId": "24a1166f-4b46-4702-e135-9c37d3884b40"
      },
      "source": [
        "# largest of 2 numbers\n",
        "def find_largest(x, y):\n",
        "  return max(x, y)\n",
        "\n",
        "print(find_largest(10, 20))\n",
        "print(find_largest(100, 101))"
      ],
      "execution_count": 5,
      "outputs": [
        {
          "output_type": "stream",
          "name": "stdout",
          "text": [
            "20\n",
            "101\n"
          ]
        }
      ]
    },
    {
      "cell_type": "code",
      "metadata": {
        "colab": {
          "base_uri": "https://localhost:8080/"
        },
        "id": "wqdGPt25-jMT",
        "outputId": "91570752-1f24-459d-cbd9-f14ea516ecaf"
      },
      "source": [
        "# sum 1 to 10\n",
        "def sum_in_range(n):\n",
        "  return sum(range(n))\n",
        "\n",
        "print(sum_in_range(11))"
      ],
      "execution_count": 8,
      "outputs": [
        {
          "output_type": "stream",
          "name": "stdout",
          "text": [
            "55\n"
          ]
        }
      ]
    },
    {
      "cell_type": "code",
      "metadata": {
        "colab": {
          "base_uri": "https://localhost:8080/"
        },
        "id": "gY3OrY7--i5V",
        "outputId": "6ac880ff-21d9-4c08-cc0c-a6520e874aff"
      },
      "source": [
        "# sum 1 to 10\n",
        "sum_cal = 0\n",
        "for i in range(1, 11):\n",
        "  sum_cal += i\n",
        "print(sum_cal)"
      ],
      "execution_count": 9,
      "outputs": [
        {
          "output_type": "stream",
          "name": "stdout",
          "text": [
            "55\n"
          ]
        }
      ]
    },
    {
      "cell_type": "markdown",
      "metadata": {
        "id": "aKXCSio-AUak"
      },
      "source": [
        "My own"
      ]
    },
    {
      "cell_type": "code",
      "metadata": {
        "id": "zvUq4OF3ATqV"
      },
      "source": [
        ""
      ],
      "execution_count": null,
      "outputs": []
    },
    {
      "cell_type": "code",
      "metadata": {
        "id": "ze7cQVW60mhq"
      },
      "source": [
        "def next_collatz(n: int) -> int:\n",
        "  return n // 2 if n % 2 == 0 else 3 * n + 1"
      ],
      "execution_count": null,
      "outputs": []
    },
    {
      "cell_type": "code",
      "metadata": {
        "id": "d6RAw67n0vJO"
      },
      "source": [
        "def collatz_seq(n: int) -> [int]:\n",
        "  if n == 4:\n",
        "    return [4, 2, 1]\n",
        "  else:\n",
        "    return [n] + collatz_seq(next_collatz(n))"
      ],
      "execution_count": null,
      "outputs": []
    },
    {
      "cell_type": "code",
      "metadata": {
        "id": "VSnkoQ341H4K",
        "colab": {
          "base_uri": "https://localhost:8080/",
          "height": 34
        },
        "outputId": "5cd5984e-1a84-47fc-92e6-0567aee2fc36"
      },
      "source": [
        "collatz_seq(7)"
      ],
      "execution_count": null,
      "outputs": [
        {
          "output_type": "execute_result",
          "data": {
            "text/plain": [
              "[7, 22, 11, 34, 17, 52, 26, 13, 40, 20, 10, 5, 16, 8, 4, 2, 1]"
            ]
          },
          "metadata": {
            "tags": []
          },
          "execution_count": 8
        }
      ]
    },
    {
      "cell_type": "code",
      "metadata": {
        "id": "Q5l0wevU1bpf"
      },
      "source": [
        "import math"
      ],
      "execution_count": null,
      "outputs": []
    },
    {
      "cell_type": "code",
      "metadata": {
        "id": "eJJd6t4h1o1J"
      },
      "source": [
        "math.gcd?"
      ],
      "execution_count": null,
      "outputs": []
    },
    {
      "cell_type": "code",
      "metadata": {
        "id": "yW_hwFmW189N"
      },
      "source": [
        ""
      ],
      "execution_count": null,
      "outputs": []
    }
  ]
}